{
 "cells": [
  {
   "cell_type": "code",
   "execution_count": 1,
   "id": "772e4950",
   "metadata": {},
   "outputs": [
    {
     "name": "stderr",
     "output_type": "stream",
     "text": [
      "/scratch/users/bbozkurt15/IdentifiablePolytope/v2.0/poly_iden.py:455: DeprecationWarning: invalid escape sequence \\e\n",
      "  display(Math('\\\\begin{bmatrix} \\n%s\\end{bmatrix}' % data))\n"
     ]
    }
   ],
   "source": [
    "import sys\n",
    "from sage.all import *\n",
    "import numpy as np\n",
    "from tqdm import tqdm\n",
    "import pandas as pd\n",
    "from time import time \n",
    "from poly_iden import *"
   ]
  },
  {
   "cell_type": "code",
   "execution_count": 2,
   "id": "f3803cd7",
   "metadata": {},
   "outputs": [],
   "source": [
    "poly_df1 = pd.read_pickle('poly_dfs/practical_polytopes_dim3_6.pkl') # Polytopes in 3 to 6 dimension\n",
    "poly_df2 = pd.read_pickle('poly_dfs/practical_polytopes_dim9.pkl') # Polytopes in 7 dimension"
   ]
  },
  {
   "cell_type": "markdown",
   "id": "5dc213cd",
   "metadata": {},
   "source": [
    "# Experiment with a 4 Dimensional Polytope of 10 Vertices"
   ]
  },
  {
   "cell_type": "code",
   "execution_count": 3,
   "id": "2bb77f12",
   "metadata": {},
   "outputs": [
    {
     "name": "stdout",
     "output_type": "stream",
     "text": [
      "The number of vertices : 10\n",
      "The vertex matrix is given as follows: \n",
      "\n"
     ]
    },
    {
     "data": {
      "text/latex": [
       "$\\displaystyle \\begin{bmatrix} \n",
       " 1.000 & 1.000 & 1.000 & 0.000 & 0.000 & 0.000 & 0.000 & -1.000 & -1.000 & -1.000 & \\\\\n",
       " 0.000 & 0.000 & 0.000 & 1.000 & 1.000 & -1.000 & -1.000 & 0.000 & 0.000 & 0.000 & \\\\\n",
       " 0.000 & 1.000 & 0.000 & 0.000 & 1.000 & 0.000 & 1.000 & 1.000 & 0.000 & 0.000 & \\\\\n",
       " -1.000 & 0.000 & 1.000 & 0.000 & 0.000 & 0.000 & 0.000 & 0.000 & 1.000 & -1.000 & \\\\\n",
       "\\end{bmatrix}$"
      ],
      "text/plain": [
       "<IPython.core.display.Math object>"
      ]
     },
     "metadata": {},
     "output_type": "display_data"
    }
   ],
   "source": [
    "V = poly_df1.iloc[int(778)]['Vertices']\n",
    "print(\"The number of vertices : {}\\nThe vertex matrix is given as follows: \\n\".format(V.shape[1]))\n",
    "display_matrix(V)"
   ]
  },
  {
   "cell_type": "markdown",
   "id": "ae8cff6a",
   "metadata": {},
   "source": [
    "### Following Cell Decides the Identifiability of Polytope Using Graph Isomorphism"
   ]
  },
  {
   "cell_type": "code",
   "execution_count": 4,
   "id": "0f9e9b48",
   "metadata": {},
   "outputs": [
    {
     "name": "stdout",
     "output_type": "stream",
     "text": [
      "The Polytope Identifiability with Graph Isomorphism Algorithm Run Time: 0.3031008243560791\n",
      "\n",
      "Given Polytope is Identifiable\n"
     ]
    }
   ],
   "source": [
    "t0 = time()\n",
    "p = PolytopeIdentifiability(V)\n",
    "n_aut_order, iden = p.check_identifiability(verbose = False, return_generator_order = True)\n",
    "t1 = time()\n",
    "print('The Polytope Identifiability with Graph Isomorphism Algorithm Run Time: {}\\n'.format(t1-t0))\n",
    "\n",
    "if iden:\n",
    "    print('Given Polytope is Identifiable')\n",
    "else:\n",
    "    print('Given Polytope is Not Identifiable')"
   ]
  },
  {
   "cell_type": "markdown",
   "id": "bac23572",
   "metadata": {},
   "source": [
    "# Following Cell Decides the Identifiability of Polytope with Brute Force \n",
    "(Runs over all the Possible Permutations)"
   ]
  },
  {
   "cell_type": "code",
   "execution_count": 5,
   "id": "13d77ac7",
   "metadata": {},
   "outputs": [
    {
     "name": "stdout",
     "output_type": "stream",
     "text": [
      "Now, we will see the execution time of brute force algorithm for the same vertex matrix\n"
     ]
    },
    {
     "name": "stderr",
     "output_type": "stream",
     "text": [
      "3628800it [01:02, 57903.73it/s]"
     ]
    },
    {
     "name": "stdout",
     "output_type": "stream",
     "text": [
      "Brute Force algorithm run time: 62.69476580619812\n",
      "\n",
      "Given Polytope is Identifiable\n"
     ]
    },
    {
     "name": "stderr",
     "output_type": "stream",
     "text": [
      "\n"
     ]
    }
   ],
   "source": [
    "print('Now, we will see the execution time of brute force algorithm for the same vertex matrix')\n",
    "t0 = time()\n",
    "iden2 = CheckPolytopeBruteForce(V)\n",
    "t1 = time()\n",
    "\n",
    "print('Brute Force algorithm run time: {}\\n'.format(t1-t0))\n",
    "\n",
    "if iden2:\n",
    "    print('Given Polytope is Identifiable')\n",
    "else:\n",
    "    print('Given Polytope is Not Identifiable')"
   ]
  },
  {
   "cell_type": "markdown",
   "id": "e2bc3606",
   "metadata": {},
   "source": [
    "# Experiment with a 9 Dimensional Polytope of 104 Vertices"
   ]
  },
  {
   "cell_type": "code",
   "execution_count": 6,
   "id": "bc4d5ff9",
   "metadata": {},
   "outputs": [
    {
     "name": "stdout",
     "output_type": "stream",
     "text": [
      "The number of vertices : 104\n",
      "The vertex matrix is given as follows: \n",
      "\n"
     ]
    },
    {
     "data": {
      "text/latex": [
       "$\\displaystyle \\begin{bmatrix} \n",
       " 0.000 & 0.000 & 0.000 & 0.000 & 0.000 & 0.000 & 0.000 & 0.000 & 0.000 & 0.000 & 0.000 & 0.000 & 0.000 & 0.000 & 0.000 & 0.000 & 0.000 & 0.000 & 0.000 & 0.000 & 0.000 & 0.000 & 0.000 & 0.000 & 0.000 & 0.000 & 0.000 & 0.000 & 0.000 & 0.000 & 0.000 & 0.000 & 0.000 & 0.000 & 0.000 & 0.000 & 0.000 & 0.000 & 0.000 & 0.000 & 0.000 & 0.000 & 0.000 & 0.000 & 0.000 & 0.000 & 1.000 & 0.000 & 0.000 & 0.000 & 0.000 & 0.000 & 0.000 & 0.000 & 0.000 & 0.000 & 0.000 & 0.000 & 0.000 & 0.000 & 0.000 & 0.000 & 0.000 & 0.000 & 0.000 & 0.000 & 0.000 & 0.000 & 0.000 & 0.000 & 0.000 & 0.000 & 0.000 & 0.000 & 0.000 & 0.000 & 0.000 & 0.000 & 0.000 & 0.000 & 0.000 & 0.000 & 0.000 & 0.000 & 0.000 & 0.000 & 0.000 & 0.000 & 0.000 & 0.000 & 0.000 & 0.000 & 0.000 & 0.000 & 0.000 & 0.000 & 0.000 & 0.000 & 0.000 & 0.000 & 0.000 & 0.000 & 0.000 & -1.000 & \\\\\n",
       " -0.333 & -0.333 & 0.000 & -0.333 & -0.333 & 0.000 & -0.333 & -0.333 & -0.333 & -0.333 & 0.000 & -0.333 & -0.333 & -0.333 & -0.333 & 0.000 & 0.000 & 0.000 & -0.333 & -0.333 & -0.333 & -0.333 & -0.333 & -0.333 & 0.000 & 0.000 & 0.000 & 0.333 & 0.333 & 0.333 & 0.333 & 0.333 & 0.333 & 0.333 & 0.333 & 0.333 & 0.333 & 0.333 & 0.333 & 0.333 & 0.333 & 0.333 & 0.333 & 0.333 & 0.333 & 1.000 & 0.000 & 0.333 & 0.333 & 0.333 & 0.333 & 0.333 & 0.333 & 0.333 & 0.333 & 0.333 & 0.333 & 0.333 & 0.333 & 0.333 & 0.333 & 0.333 & 0.333 & 0.333 & 0.333 & 0.000 & 0.000 & 0.000 & 0.000 & -0.333 & -0.333 & -0.333 & 0.000 & -0.333 & -0.333 & -0.333 & 0.000 & 0.000 & 0.000 & 0.000 & 0.000 & 0.000 & -0.333 & -0.333 & 0.000 & -0.333 & -0.333 & -0.333 & -0.333 & -0.333 & -0.333 & 0.000 & -0.333 & -0.333 & 0.000 & -0.333 & -0.333 & 0.000 & 0.000 & 0.000 & 0.000 & 0.000 & -1.000 & 0.000 & \\\\\n",
       " 0.000 & 0.000 & -0.500 & 0.000 & 0.000 & -0.500 & 0.000 & 0.000 & 0.000 & 0.000 & 0.000 & 0.000 & 0.000 & 0.000 & 0.000 & -0.500 & 0.000 & 0.000 & 0.000 & 0.000 & 0.000 & 0.000 & 0.000 & 0.000 & 0.500 & 0.500 & 0.500 & 0.000 & 0.000 & 0.000 & 0.000 & 0.000 & 0.000 & 0.000 & 0.000 & 0.000 & 0.000 & 0.000 & 0.000 & 0.000 & 0.000 & 0.000 & 0.000 & 0.000 & 0.000 & 0.000 & 0.000 & 0.000 & 0.000 & 0.000 & 0.000 & 0.000 & 0.000 & 0.000 & 0.000 & 0.000 & 0.000 & 0.000 & 0.000 & 0.000 & 0.000 & 0.000 & 0.000 & 0.000 & 0.000 & 1.000 & 0.500 & 0.500 & 0.500 & 0.000 & 0.000 & 0.000 & 0.000 & 0.000 & 0.000 & 0.000 & 0.000 & 0.000 & 0.000 & 0.000 & 0.000 & -0.500 & 0.000 & 0.000 & -0.500 & 0.000 & 0.000 & 0.000 & 0.000 & 0.000 & 0.000 & 0.000 & 0.000 & 0.000 & -0.500 & 0.000 & 0.000 & 0.000 & 0.000 & 0.000 & 0.000 & -1.000 & 0.000 & 0.000 & \\\\\n",
       " -0.333 & -0.333 & 0.000 & -0.333 & -0.333 & 0.000 & 0.000 & 0.000 & 0.000 & 0.000 & 0.000 & 0.000 & 0.000 & -0.333 & -0.333 & 0.000 & 0.000 & 0.000 & 0.333 & 0.333 & 0.333 & 0.333 & 0.333 & 0.333 & 0.000 & 0.000 & 0.000 & -0.333 & -0.333 & -0.333 & -0.333 & 0.000 & 0.000 & 0.000 & 0.000 & -0.333 & -0.333 & 0.000 & 0.000 & 0.333 & 0.333 & 0.333 & 0.333 & 0.333 & 0.333 & 0.000 & 0.000 & 0.333 & 0.333 & 0.333 & 0.333 & 0.333 & 0.333 & 0.000 & 0.000 & -0.333 & -0.333 & 0.000 & 0.000 & 0.000 & 0.000 & -0.333 & -0.333 & -0.333 & -0.333 & 0.000 & 0.000 & 0.000 & 0.000 & 0.333 & 0.333 & 0.333 & 1.000 & 0.333 & 0.333 & 0.333 & 1.000 & 0.000 & 0.000 & 0.000 & 0.000 & 0.000 & -0.333 & -0.333 & 0.000 & -0.333 & -0.333 & 0.000 & 0.000 & 0.000 & 0.000 & 0.000 & 0.000 & 0.000 & 0.000 & -0.333 & -0.333 & 0.000 & 0.000 & -1.000 & -1.000 & 0.000 & 0.000 & 0.000 & \\\\\n",
       " 0.333 & 0.333 & 0.500 & 0.000 & 0.000 & 0.000 & 0.333 & 0.333 & 0.000 & 0.000 & 0.000 & 0.000 & 0.000 & 0.000 & 0.000 & 0.000 & 0.000 & 0.000 & 0.000 & 0.333 & 0.000 & 0.000 & 0.333 & 0.000 & 0.000 & 0.000 & 0.500 & 0.000 & 0.000 & 0.000 & 0.000 & 0.000 & 0.000 & 0.000 & 0.000 & 0.333 & 0.333 & 0.333 & 0.333 & 0.000 & 0.000 & 0.000 & 0.000 & 0.333 & 0.333 & 0.000 & 0.000 & 0.333 & 0.333 & 0.000 & 0.000 & 0.000 & 0.000 & 0.333 & 0.333 & 0.333 & 0.333 & 0.000 & 0.000 & 0.000 & 0.000 & 0.000 & 0.000 & 0.000 & 0.000 & 0.000 & 0.500 & 0.000 & 0.000 & 0.000 & 0.333 & 0.000 & 0.000 & 0.000 & 0.333 & 0.000 & 0.000 & 0.000 & 0.000 & 1.000 & 1.000 & 0.500 & 0.333 & 0.333 & 0.000 & 0.000 & 0.000 & 0.333 & 0.333 & 0.000 & 0.000 & 0.000 & 0.000 & 0.000 & 0.000 & 0.000 & 0.000 & 0.000 & 0.000 & 0.000 & 0.000 & 0.000 & 0.000 & 0.000 & \\\\\n",
       " 0.000 & 0.000 & 0.000 & 0.000 & 0.000 & 0.000 & 0.333 & 0.333 & 0.333 & 0.333 & 0.000 & 0.333 & 0.333 & 0.000 & 0.000 & 0.000 & 0.000 & 0.000 & 0.000 & 0.000 & 0.000 & 0.000 & 0.000 & 0.000 & 0.000 & 0.000 & 0.000 & 0.000 & 0.000 & 0.000 & 0.000 & 0.333 & 0.333 & 0.333 & 0.333 & 0.000 & 0.000 & 0.333 & 0.333 & 0.000 & 0.000 & 0.000 & 0.000 & 0.000 & 0.000 & 0.000 & 0.000 & 0.000 & 0.000 & 0.000 & 0.000 & 0.000 & 0.000 & 0.333 & 0.333 & 0.000 & 0.000 & 0.333 & 0.333 & 0.333 & 0.333 & 0.000 & 0.000 & 0.000 & 0.000 & 0.000 & 0.000 & 0.000 & 0.000 & 0.000 & 0.000 & 0.000 & 0.000 & 0.000 & 0.000 & 0.000 & 0.000 & 0.000 & 0.000 & 0.000 & 0.000 & 0.000 & 0.000 & 0.000 & 0.000 & 0.000 & 0.000 & 0.333 & 0.333 & 0.333 & 0.333 & 0.000 & 0.333 & 0.333 & 0.000 & 0.000 & 0.000 & 1.000 & 1.000 & 0.000 & 0.000 & 0.000 & 0.000 & 0.000 & \\\\\n",
       " 0.000 & 0.000 & 0.000 & -0.333 & -0.333 & -0.500 & 0.000 & 0.000 & -0.333 & -0.333 & 0.000 & 0.333 & 0.333 & 0.333 & 0.333 & 0.500 & 1.000 & 1.000 & -0.333 & 0.000 & 0.333 & -0.333 & 0.000 & 0.333 & -0.500 & 0.500 & 0.000 & -0.333 & -0.333 & 0.333 & 0.333 & -0.333 & -0.333 & 0.333 & 0.333 & 0.000 & 0.000 & 0.000 & 0.000 & -0.333 & -0.333 & 0.333 & 0.333 & 0.000 & 0.000 & 0.000 & 0.000 & 0.000 & 0.000 & 0.333 & 0.333 & -0.333 & -0.333 & 0.000 & 0.000 & 0.000 & 0.000 & 0.333 & 0.333 & -0.333 & -0.333 & 0.333 & 0.333 & -0.333 & -0.333 & 0.000 & 0.000 & 0.500 & -0.500 & -0.333 & 0.000 & 0.333 & 0.000 & -0.333 & 0.000 & 0.333 & 0.000 & -1.000 & -1.000 & 0.000 & 0.000 & 0.000 & 0.000 & 0.000 & -0.500 & -0.333 & -0.333 & 0.000 & 0.000 & -0.333 & -0.333 & 0.000 & 0.333 & 0.333 & 0.500 & 0.333 & 0.333 & 0.000 & 0.000 & 0.000 & 0.000 & 0.000 & 0.000 & 0.000 & \\\\\n",
       " 0.333 & -0.333 & 0.000 & 0.333 & -0.333 & 0.000 & 0.333 & -0.333 & -0.333 & 0.333 & 0.000 & -0.333 & 0.333 & 0.333 & -0.333 & 0.000 & 1.000 & -1.000 & -0.333 & -0.333 & -0.333 & 0.333 & 0.333 & 0.333 & 0.000 & 0.000 & 0.000 & 0.333 & -0.333 & 0.333 & -0.333 & -0.333 & 0.333 & -0.333 & 0.333 & 0.333 & -0.333 & -0.333 & 0.333 & -0.333 & 0.333 & -0.333 & 0.333 & -0.333 & 0.333 & 0.000 & 0.000 & 0.333 & -0.333 & 0.333 & -0.333 & 0.333 & -0.333 & 0.333 & -0.333 & -0.333 & 0.333 & 0.333 & -0.333 & 0.333 & -0.333 & -0.333 & 0.333 & -0.333 & 0.333 & 0.000 & 0.000 & 0.000 & 0.000 & 0.333 & 0.333 & 0.333 & 1.000 & -0.333 & -0.333 & -0.333 & -1.000 & 1.000 & -1.000 & 1.000 & -1.000 & 0.000 & -0.333 & 0.333 & 0.000 & -0.333 & 0.333 & -0.333 & 0.333 & 0.333 & -0.333 & 0.000 & 0.333 & -0.333 & 0.000 & -0.333 & 0.333 & 1.000 & -1.000 & 1.000 & -1.000 & 0.000 & 0.000 & 0.000 & \\\\\n",
       " 0.333 & 0.333 & 0.500 & 0.333 & 0.333 & 0.500 & 0.333 & 0.333 & 0.333 & 0.333 & 1.000 & 0.333 & 0.333 & 0.333 & 0.333 & 0.500 & 0.000 & 0.000 & 0.333 & 0.333 & 0.333 & 0.333 & 0.333 & 0.333 & 0.500 & 0.500 & 0.500 & 0.333 & 0.333 & 0.333 & 0.333 & 0.333 & 0.333 & 0.333 & 0.333 & 0.333 & 0.333 & 0.333 & 0.333 & -0.333 & -0.333 & -0.333 & -0.333 & -0.333 & -0.333 & 0.000 & 0.000 & 0.333 & 0.333 & 0.333 & 0.333 & 0.333 & 0.333 & -0.333 & -0.333 & -0.333 & -0.333 & -0.333 & -0.333 & -0.333 & -0.333 & -0.333 & -0.333 & -0.333 & -0.333 & 0.000 & -0.500 & -0.500 & -0.500 & -0.333 & -0.333 & -0.333 & 0.000 & -0.333 & -0.333 & -0.333 & 0.000 & 0.000 & 0.000 & 0.000 & 0.000 & -0.500 & -0.333 & -0.333 & -0.500 & -0.333 & -0.333 & -0.333 & -0.333 & -0.333 & -0.333 & -1.000 & -0.333 & -0.333 & -0.500 & -0.333 & -0.333 & 0.000 & 0.000 & 0.000 & 0.000 & 0.000 & 0.000 & 0.000 & \\\\\n",
       "\\end{bmatrix}$"
      ],
      "text/plain": [
       "<IPython.core.display.Math object>"
      ]
     },
     "metadata": {},
     "output_type": "display_data"
    }
   ],
   "source": [
    "V = poly_df2.iloc[int(250)]['Vertices']\n",
    "print(\"The number of vertices : {}\\nThe vertex matrix is given as follows: \\n\".format(V.shape[1]))\n",
    "display_matrix(V)"
   ]
  },
  {
   "cell_type": "markdown",
   "id": "e939a87e",
   "metadata": {},
   "source": [
    "### Following Cell Decides the Identifiability of Polytope Using Graph Isomorphism"
   ]
  },
  {
   "cell_type": "code",
   "execution_count": 7,
   "id": "340afa49",
   "metadata": {},
   "outputs": [
    {
     "name": "stdout",
     "output_type": "stream",
     "text": [
      "The Polytope Identifiability with Graph Isomorphism Algorithm Run Time: 5.281719923019409\n",
      "\n",
      "Given Polytope is Identifiable\n"
     ]
    }
   ],
   "source": [
    "t0 = time()\n",
    "p = PolytopeIdentifiability(V)\n",
    "n_aut_order, iden = p.check_identifiability(verbose = False, return_generator_order = True)\n",
    "t1 = time()\n",
    "print('The Polytope Identifiability with Graph Isomorphism Algorithm Run Time: {}\\n'.format(t1-t0))\n",
    "\n",
    "if iden:\n",
    "    print('Given Polytope is Identifiable')\n",
    "else:\n",
    "    print('Given Polytope is Not Identifiable')"
   ]
  },
  {
   "cell_type": "markdown",
   "id": "52524889",
   "metadata": {},
   "source": [
    "### Following Brute Force Identifiability Decision Might Take Infinite Amount of Time"
   ]
  },
  {
   "cell_type": "code",
   "execution_count": 8,
   "id": "4c4d1e83",
   "metadata": {},
   "outputs": [
    {
     "name": "stdout",
     "output_type": "stream",
     "text": [
      "Now, we will see the execution time of brute force algorithm for the same vertex matrix\n"
     ]
    },
    {
     "name": "stderr",
     "output_type": "stream",
     "text": [
      "16335701it [08:22, 32529.54it/s]\n"
     ]
    },
    {
     "ename": "KeyboardInterrupt",
     "evalue": "",
     "output_type": "error",
     "traceback": [
      "\u001b[0;31m---------------------------------------------------------------------------\u001b[0m",
      "\u001b[0;31mKeyboardInterrupt\u001b[0m                         Traceback (most recent call last)",
      "\u001b[0;32m<ipython-input-8-1e24f1cb8a22>\u001b[0m in \u001b[0;36m<module>\u001b[0;34m\u001b[0m\n\u001b[1;32m      1\u001b[0m \u001b[0mprint\u001b[0m\u001b[0;34m(\u001b[0m\u001b[0;34m'Now, we will see the execution time of brute force algorithm for the same vertex matrix'\u001b[0m\u001b[0;34m)\u001b[0m\u001b[0;34m\u001b[0m\u001b[0;34m\u001b[0m\u001b[0m\n\u001b[1;32m      2\u001b[0m \u001b[0mt0\u001b[0m \u001b[0;34m=\u001b[0m \u001b[0mtime\u001b[0m\u001b[0;34m(\u001b[0m\u001b[0;34m)\u001b[0m\u001b[0;34m\u001b[0m\u001b[0;34m\u001b[0m\u001b[0m\n\u001b[0;32m----> 3\u001b[0;31m \u001b[0miden2\u001b[0m \u001b[0;34m=\u001b[0m \u001b[0mCheckPolytopeBruteForce\u001b[0m\u001b[0;34m(\u001b[0m\u001b[0mV\u001b[0m\u001b[0;34m)\u001b[0m\u001b[0;34m\u001b[0m\u001b[0;34m\u001b[0m\u001b[0m\n\u001b[0m\u001b[1;32m      4\u001b[0m \u001b[0mt1\u001b[0m \u001b[0;34m=\u001b[0m \u001b[0mtime\u001b[0m\u001b[0;34m(\u001b[0m\u001b[0;34m)\u001b[0m\u001b[0;34m\u001b[0m\u001b[0;34m\u001b[0m\u001b[0m\n\u001b[1;32m      5\u001b[0m \u001b[0;34m\u001b[0m\u001b[0m\n",
      "\u001b[0;32m/scratch/users/bbozkurt15/IdentifiablePolytope/v2.0/poly_iden.py\u001b[0m in \u001b[0;36mCheckPolytopeBruteForce\u001b[0;34m(V)\u001b[0m\n\u001b[1;32m    270\u001b[0m     \u001b[0mVp\u001b[0m \u001b[0;34m=\u001b[0m \u001b[0mnp\u001b[0m\u001b[0;34m.\u001b[0m\u001b[0mlinalg\u001b[0m\u001b[0;34m.\u001b[0m\u001b[0mpinv\u001b[0m\u001b[0;34m(\u001b[0m\u001b[0mV\u001b[0m\u001b[0;34m)\u001b[0m\u001b[0;34m\u001b[0m\u001b[0;34m\u001b[0m\u001b[0m\n\u001b[1;32m    271\u001b[0m     \u001b[0;32mfor\u001b[0m \u001b[0mi\u001b[0m\u001b[0;34m,\u001b[0m\u001b[0mindxp\u001b[0m \u001b[0;32min\u001b[0m \u001b[0mtqdm\u001b[0m\u001b[0;34m(\u001b[0m\u001b[0menumerate\u001b[0m\u001b[0;34m(\u001b[0m\u001b[0mmultiset_permutations\u001b[0m\u001b[0;34m(\u001b[0m\u001b[0mindxs\u001b[0m\u001b[0;34m)\u001b[0m\u001b[0;34m)\u001b[0m\u001b[0;34m)\u001b[0m\u001b[0;34m:\u001b[0m\u001b[0;34m\u001b[0m\u001b[0;34m\u001b[0m\u001b[0m\n\u001b[0;32m--> 272\u001b[0;31m         \u001b[0mVindxp\u001b[0m \u001b[0;34m=\u001b[0m \u001b[0mV\u001b[0m\u001b[0;34m[\u001b[0m\u001b[0;34m:\u001b[0m\u001b[0;34m,\u001b[0m \u001b[0mindxp\u001b[0m\u001b[0;34m]\u001b[0m\u001b[0;34m\u001b[0m\u001b[0;34m\u001b[0m\u001b[0m\n\u001b[0m\u001b[1;32m    273\u001b[0m         \u001b[0mG\u001b[0m \u001b[0;34m=\u001b[0m \u001b[0mVindxp\u001b[0m\u001b[0;34m@\u001b[0m\u001b[0mVp\u001b[0m\u001b[0;34m\u001b[0m\u001b[0;34m\u001b[0m\u001b[0m\n\u001b[1;32m    274\u001b[0m         \u001b[0;32mif\u001b[0m \u001b[0;34m(\u001b[0m\u001b[0mnp\u001b[0m\u001b[0;34m.\u001b[0m\u001b[0mlinalg\u001b[0m\u001b[0;34m.\u001b[0m\u001b[0mnorm\u001b[0m\u001b[0;34m(\u001b[0m\u001b[0mG\u001b[0m\u001b[0;34m@\u001b[0m\u001b[0mV\u001b[0m\u001b[0;34m-\u001b[0m\u001b[0mVindxp\u001b[0m\u001b[0;34m)\u001b[0m \u001b[0;34m<\u001b[0m \u001b[0;36m1e-6\u001b[0m\u001b[0;34m)\u001b[0m\u001b[0;34m:\u001b[0m\u001b[0;34m\u001b[0m\u001b[0;34m\u001b[0m\u001b[0m\n",
      "\u001b[0;32msrc/cysignals/signals.pyx\u001b[0m in \u001b[0;36mcysignals.signals.python_check_interrupt\u001b[0;34m()\u001b[0m\n",
      "\u001b[0;31mKeyboardInterrupt\u001b[0m: "
     ]
    }
   ],
   "source": [
    "print('Now, we will see the execution time of brute force algorithm for the same vertex matrix')\n",
    "t0 = time()\n",
    "iden2 = CheckPolytopeBruteForce(V)\n",
    "t1 = time()\n",
    "\n",
    "print('Brute Force algorithm run time: {}\\n'.format(t1-t0))\n",
    "\n",
    "if iden2:\n",
    "    print('Given Polytope is Identifiable')\n",
    "else:\n",
    "    print('Given Polytope is Not Identifiable')"
   ]
  },
  {
   "cell_type": "code",
   "execution_count": null,
   "id": "aca33ad5",
   "metadata": {},
   "outputs": [],
   "source": []
  }
 ],
 "metadata": {
  "kernelspec": {
   "display_name": "SageMath 9.3",
   "language": "sage",
   "name": "sagemath"
  },
  "language_info": {
   "codemirror_mode": {
    "name": "ipython",
    "version": 3
   },
   "file_extension": ".py",
   "mimetype": "text/x-python",
   "name": "python",
   "nbconvert_exporter": "python",
   "pygments_lexer": "ipython3",
   "version": "3.7.11"
  }
 },
 "nbformat": 4,
 "nbformat_minor": 5
}
